{
    "nbformat_minor": 1, 
    "cells": [
        {
            "source": "<h1>Segmentation &amp; Clustering Neighborhoods Assignment Submission</h1>\n<h2>Part 2</h2>\n\n<hr>", 
            "cell_type": "markdown", 
            "metadata": {}
        }, 
        {
            "execution_count": 1, 
            "cell_type": "code", 
            "metadata": {}, 
            "outputs": [], 
            "source": "# Import the request library \nimport requests\n# Import the Pandas library  as pd\nimport pandas as pd"
        }, 
        {
            "execution_count": 2, 
            "cell_type": "code", 
            "metadata": {}, 
            "outputs": [], 
            "source": "# Assign the wikipedia URL for the Canadian postal codes site for all codes starting with the letter \"M\".\n# to the newly named variable \"wikipedia_link\"\nwikipedia_link = 'https://en.wikipedia.org/wiki/List_of_postal_codes_of_Canada:_M'\n\n#  Assign the get function from the requests library to download the contents of url assigned to\n# the wikipedia_link variable\nraw_random_wikipedia_page = requests.get(str(wikipedia_link))"
        }, 
        {
            "execution_count": 3, 
            "cell_type": "code", 
            "metadata": {}, 
            "outputs": [
                {
                    "output_type": "stream", 
                    "name": "stdout", 
                    "text": "<----    XML String Successfully Assigned to Variable    ---->\n"
                }
            ], 
            "source": "# Assign XML as a text file string  to newly named variable \"page\"\npage = raw_random_wikipedia_page.text\n# Displays tmessage indicating that the XML string was successfully\n# assigned to the page variable.\nprint('<----    XML String Successfully Assigned to Variable    ---->')"
        }, 
        {
            "execution_count": 4, 
            "cell_type": "code", 
            "metadata": {
                "scrolled": true
            }, 
            "outputs": [], 
            "source": "# Assign the string length of  the page variable and \n# assign the numerical value to the newly named variable page_length.\npage_length = len(page)\n# Assign list containing postal codes to newly named variable postal_lst.\npostal_lst = ['M5G', \n                          'M2H', \n                          'M4B', \n                          'M1J', \n                          'M4G', \n                          'M4M', \n                          'M1R', \n                          'M9V', \n                          'M9L', \n                          'M5V', \n                          'M1B', \n                          'M5A']\n# Assign the  list item count from the postal_lst  list and\n# assign the numerical value to the newly named variable postal_lst_len.\npostal_lst_len = int(len(postal_lst))\n# Assign empty list to newly named variable city_list.\ncity_lst = []\n# Assign empty list to newly named variable temp_city_list.\ntemp_city_list = []\n\n# For loop iterates through each item contained in the postal_lst list\n# and removes HTML tags from the XML string assigned to the page \n# variable.\nfor item in postal_lst:\n    # This line was created to ensure that items from the previous stage \n    # of the loop are cleared from the temp_city_list.\n    temp_city_list = []\n    # Searches the contents of the page variable for the postal code \n    # assigned to item and returns the character value from the xml \n    # string and assigns the numerical value to a newly named \n    # variable line_trim1.\n    line_trim1 = page.find(item)\n    # Subtracts 5 from the character value assigned to the line_trim1\n    # variable and assigns the new value to a newly named variable line_trim2\n    line_trim2 = line_trim1 - 5\n    # Searches the contents of the page variable for the '<tr>'  HTML tag \n    # using the find method starting  from the string location assigned to \n    # line_trim2 and returns the character value reference number and assigns \n    # the numerical value to a newly named variable line_trim3.\n    line_trim3 = page.find('<tr>', line_trim2)\n    # Assigns a string from the page variable between character reference\n    # values assigned to line_trim2 and line_trim3 to a newly named variable\n    # temp_city_str1.\n    temp_city_str1 = page[line_trim2:line_trim3]\n    # Removes the '</td>' & '</tr>' HTML from the string assigned to the \n    # temp_city_str1 variable using the replace method and assigns the new string \n    # to the newly named variable  temp_city_str2.\n    temp_city_str2 = temp_city_str1.replace('</td></tr>', ' ')\n    # Assigns a string from the temp_city_str2 variable between character reference\n    # values 13 and the string length of  the temp_city_str2 variable and assigns it to\n    # the temp_city_str1 variable.\n    temp_city_str1 = temp_city_str2[13:len(temp_city_str2)]\n    # Assigns a string from the temp_city_str2 variable between character reference\n    # values 5 and the string length of the temp_city_str1 variable and assigns it to\n    # the newly named variable temp_city_str3\n    temp_city_str3 = temp_city_str1[5:len(temp_city_str1)]\n    \n    # Assigns a string from the temp_city_str2 variable between character reference\n    # values 5 and 8 and assigns it to the newly named variable line1_str   \n    line1_str = temp_city_str2[5:8]\n    \n    # Searches the contents of the temp_city_str3 variable for the '<td>'  HTML tag \n    # using the find method and returns the character value reference number \n    # and assigns the numerical value to a newly named variable temp_str1.\n    temp_str1 = temp_city_str3.find('<td>')\n    # Increases the value assigned to the temp_str1 variable by adding 4 to the value\n    # and assigns the new value to a newly named variable temp_str2.    \n    temp_str2 = temp_str1 + 4\n    # Assigns a string from the temp_city_str3 variable between character reference\n    # values assigned to the temp_str2 variable and the string length of the temp_city_str3 \n    # variable and assigns it to the newly named variable temp_city_str3\n    line2_str = temp_city_str3[temp_str2:len(temp_city_str3)]\n    # Removes the '</a>' HTML tag from the string assigned to the line2_str variable \n    # using the replace method and assigns the new string to the line2_str variable.\n    line2_str = line2_str.replace('</a>', ' ')\n    # Searches the contents of the line2_str variable for the '>'  character\n    # using the find method and returns the character value reference number \n    # and assigns the numerical value to the newly named variable line2_temp1.\n    line2_temp1 = line2_str.find('>')\n    # Increases the value assigned to the line2_temp1 variable by adding 1 to the value\n    # and assigns the new value to the line2_temp1 variable.   \n    line2_temp1 = line2_temp1 + 1\n    # Assigns a string from the str2_str variable between character reference\n    # values assigned to the line2_temp1 variable and the string length of the line2_str\n    # variable and assigns it to the line2_str variable.\n    line2_str = line2_str[line2_temp1:len(line2_str)]\n    # Removes all new line characters from the line2_str variable and assigns the new\n    # string to the line2_str variable.\n    line2_str = line2_str.strip('\\n \\n')\n    \n    # Assigns a string from the temp_city_str3 variable between character reference\n    # 0 and the string length of the temp_str1 variable and assigns it to the newly named \n    # variable line3_str.\n    line3_str = temp_city_str3[0:temp_str1]\n    # Removes the '</a>' & '</td>' HTML tags from the string assigned to the line3_str variable \n    # using the replace method and assigns the new string to the line3_str variable .\n    line3_str = line3_str.replace('</a></td>', ' ')\n    # Searches the contents of the line3_str variable for the '>'  character\n    # using the find method and returns the character value reference number \n    # and assigns the numerical value to the newly named variable line3_temp1\n    line3_temp1 = line3_str.find('>')\n    # Increases the value assigned to the line3_temp1 variable by adding 1 to the value\n    # and assigns the new value to the line3_temp1 variable.   \n    line3_temp1 = line3_temp1 + 1\n    # Assigns a string from the line3_str variable between character reference\n    # values assigned to the line3_temp1 variable and the string length of the line3_str\n    # variable and assigns it to the line3_str variable.\n    line3_str = line3_str[line3_temp1:len(line3_str)]\n    # Removes all new line characters from the line3_str variable and assigns the new\n    # string to the line3_str variable.\n    line3_str = line3_str.strip(' \\n')\n    \n    # Appends Postal Code to the temp_city_list list\n    temp_city_list.append(line1_str)\n    # Appends Borough to the temp_city_list list\n    temp_city_list.append(line3_str)\n    # Appends Neighborhood to the temp_city_list list\n    temp_city_list.append(line2_str)\n    \n    # Appends the temp_city_list as a row in the city_lst list\n    city_lst.append(temp_city_list)"
        }, 
        {
            "execution_count": 5, 
            "cell_type": "code", 
            "metadata": {}, 
            "outputs": [
                {
                    "output_type": "stream", 
                    "name": "stdout", 
                    "text": "[['M5G', 'Downtown Toronto', 'Central Bay Street'], ['M2H', 'North York', 'Hillcrest Village'], ['M4B', 'East York', 'Woodbine Gardens'], ['M1J', 'Scarborough', 'Scarborough Village'], ['M4G', 'East York', 'Leaside'], ['M4M', 'East Toronto', 'Studio District'], ['M1R', 'Scarborough', 'Maryvale'], ['M9V', 'Etobicoke', 'Albion Gardens'], ['M9L', 'North York', 'Humber Summit'], ['M5V', 'Downtown Toronto', 'CN Tower'], ['M1B', 'Scarborough', 'Rouge'], ['M5A', 'Downtown Toronto', 'Harbourfront']]\n"
                }
            ], 
            "source": "# Display city_lst to confirm xml file was successfully scraped\nprint(city_lst)"
        }, 
        {
            "execution_count": 6, 
            "cell_type": "code", 
            "metadata": {}, 
            "outputs": [
                {
                    "output_type": "stream", 
                    "name": "stdout", 
                    "text": "['M5G', 'Downtown Toronto', 'Central Bay Street']\n['M2H', 'North York', 'Hillcrest Village']\n['M4B', 'East York', 'Woodbine Gardens']\n['M1J', 'Scarborough', 'Scarborough Village']\n['M4G', 'East York', 'Leaside']\n['M4M', 'East Toronto', 'Studio District']\n['M1R', 'Scarborough', 'Maryvale']\n['M9V', 'Etobicoke', 'Albion Gardens']\n['M9L', 'North York', 'Humber Summit']\n['M5V', 'Downtown Toronto', 'CN Tower']\n['M1B', 'Scarborough', 'Rouge']\n['M5A', 'Downtown Toronto', 'Harbourfront']\n"
                }
            ], 
            "source": "# Unpack and display each row in city_lst\nfor line in city_lst:\n    print(line)"
        }, 
        {
            "execution_count": 7, 
            "cell_type": "code", 
            "metadata": {}, 
            "outputs": [
                {
                    "execution_count": 7, 
                    "metadata": {}, 
                    "data": {
                        "text/html": "<div>\n<style scoped>\n    .dataframe tbody tr th:only-of-type {\n        vertical-align: middle;\n    }\n\n    .dataframe tbody tr th {\n        vertical-align: top;\n    }\n\n    .dataframe thead th {\n        text-align: right;\n    }\n</style>\n<table border=\"1\" class=\"dataframe\">\n  <thead>\n    <tr style=\"text-align: right;\">\n      <th></th>\n      <th>PostalCode</th>\n      <th>Borough</th>\n      <th>Neighborhood</th>\n    </tr>\n  </thead>\n  <tbody>\n  </tbody>\n</table>\n</div>", 
                        "text/plain": "Empty DataFrame\nColumns: [PostalCode, Borough, Neighborhood]\nIndex: []"
                    }, 
                    "output_type": "execute_result"
                }
            ], 
            "source": "# Assign column names to newly named Pandas dataframe toronto_DF.\ntoronto_DF = pd.DataFrame(columns=['PostalCode', 'Borough', 'Neighborhood'])\n# Display new dataframe as confirmation of successful creation.\ntoronto_DF"
        }, 
        {
            "execution_count": 8, 
            "cell_type": "code", 
            "metadata": {}, 
            "outputs": [
                {
                    "execution_count": 8, 
                    "metadata": {}, 
                    "data": {
                        "text/html": "<div>\n<style scoped>\n    .dataframe tbody tr th:only-of-type {\n        vertical-align: middle;\n    }\n\n    .dataframe tbody tr th {\n        vertical-align: top;\n    }\n\n    .dataframe thead th {\n        text-align: right;\n    }\n</style>\n<table border=\"1\" class=\"dataframe\">\n  <thead>\n    <tr style=\"text-align: right;\">\n      <th></th>\n      <th>PostalCode</th>\n      <th>Borough</th>\n      <th>Neighborhood</th>\n    </tr>\n  </thead>\n  <tbody>\n    <tr>\n      <th>0</th>\n      <td>M5G</td>\n      <td>Downtown Toronto</td>\n      <td>Central Bay Street</td>\n    </tr>\n    <tr>\n      <th>1</th>\n      <td>M2H</td>\n      <td>North York</td>\n      <td>Hillcrest Village</td>\n    </tr>\n    <tr>\n      <th>2</th>\n      <td>M4B</td>\n      <td>East York</td>\n      <td>Woodbine Gardens</td>\n    </tr>\n    <tr>\n      <th>3</th>\n      <td>M1J</td>\n      <td>Scarborough</td>\n      <td>Scarborough Village</td>\n    </tr>\n    <tr>\n      <th>4</th>\n      <td>M4G</td>\n      <td>East York</td>\n      <td>Leaside</td>\n    </tr>\n    <tr>\n      <th>5</th>\n      <td>M4M</td>\n      <td>East Toronto</td>\n      <td>Studio District</td>\n    </tr>\n    <tr>\n      <th>6</th>\n      <td>M1R</td>\n      <td>Scarborough</td>\n      <td>Maryvale</td>\n    </tr>\n    <tr>\n      <th>7</th>\n      <td>M9V</td>\n      <td>Etobicoke</td>\n      <td>Albion Gardens</td>\n    </tr>\n    <tr>\n      <th>8</th>\n      <td>M9L</td>\n      <td>North York</td>\n      <td>Humber Summit</td>\n    </tr>\n    <tr>\n      <th>9</th>\n      <td>M5V</td>\n      <td>Downtown Toronto</td>\n      <td>CN Tower</td>\n    </tr>\n    <tr>\n      <th>10</th>\n      <td>M1B</td>\n      <td>Scarborough</td>\n      <td>Rouge</td>\n    </tr>\n    <tr>\n      <th>11</th>\n      <td>M5A</td>\n      <td>Downtown Toronto</td>\n      <td>Harbourfront</td>\n    </tr>\n  </tbody>\n</table>\n</div>", 
                        "text/plain": "   PostalCode           Borough         Neighborhood\n0         M5G  Downtown Toronto   Central Bay Street\n1         M2H        North York    Hillcrest Village\n2         M4B         East York     Woodbine Gardens\n3         M1J       Scarborough  Scarborough Village\n4         M4G         East York              Leaside\n5         M4M      East Toronto      Studio District\n6         M1R       Scarborough             Maryvale\n7         M9V         Etobicoke       Albion Gardens\n8         M9L        North York        Humber Summit\n9         M5V  Downtown Toronto             CN Tower\n10        M1B       Scarborough                Rouge\n11        M5A  Downtown Toronto         Harbourfront"
                    }, 
                    "output_type": "execute_result"
                }
            ], 
            "source": "# For Loop iterates through each row of  city_lst and appends the row to\n# the toronto_DF pandas dataframe.\nfor row in city_lst:\n   toronto_DF = toronto_DF.append(pd.Series(row, index=['PostalCode', \n                                                                                                                         'Borough', \n                                                                                                                         'Neighborhood']), \n                                                                           ignore_index=True)\n\n# Display updated dataframe as confirmation of successful update\ntoronto_DF"
        }, 
        {
            "execution_count": 9, 
            "cell_type": "code", 
            "metadata": {}, 
            "outputs": [
                {
                    "execution_count": 9, 
                    "metadata": {}, 
                    "data": {
                        "text/html": "<div>\n<style scoped>\n    .dataframe tbody tr th:only-of-type {\n        vertical-align: middle;\n    }\n\n    .dataframe tbody tr th {\n        vertical-align: top;\n    }\n\n    .dataframe thead th {\n        text-align: right;\n    }\n</style>\n<table border=\"1\" class=\"dataframe\">\n  <thead>\n    <tr style=\"text-align: right;\">\n      <th></th>\n      <th>Postal Code</th>\n      <th>Latitude</th>\n      <th>Longitude</th>\n    </tr>\n  </thead>\n  <tbody>\n    <tr>\n      <th>0</th>\n      <td>M1B</td>\n      <td>43.806686</td>\n      <td>-79.194353</td>\n    </tr>\n    <tr>\n      <th>1</th>\n      <td>M1C</td>\n      <td>43.784535</td>\n      <td>-79.160497</td>\n    </tr>\n    <tr>\n      <th>2</th>\n      <td>M1E</td>\n      <td>43.763573</td>\n      <td>-79.188711</td>\n    </tr>\n    <tr>\n      <th>3</th>\n      <td>M1G</td>\n      <td>43.770992</td>\n      <td>-79.216917</td>\n    </tr>\n    <tr>\n      <th>4</th>\n      <td>M1H</td>\n      <td>43.773136</td>\n      <td>-79.239476</td>\n    </tr>\n  </tbody>\n</table>\n</div>", 
                        "text/plain": "  Postal Code   Latitude  Longitude\n0         M1B  43.806686 -79.194353\n1         M1C  43.784535 -79.160497\n2         M1E  43.763573 -79.188711\n3         M1G  43.770992 -79.216917\n4         M1H  43.773136 -79.239476"
                    }, 
                    "output_type": "execute_result"
                }
            ], 
            "source": "# Read contents of csv file and assign data to new named DataFrame geo_DF\ngeo_DF = pd.read_csv('http://cocl.us/Geospatial_data')\n# Display updated dataframe as confirmation of successful update\ngeo_DF.head()"
        }, 
        {
            "execution_count": 10, 
            "cell_type": "code", 
            "metadata": {}, 
            "outputs": [
                {
                    "output_type": "stream", 
                    "name": "stdout", 
                    "text": "['M1B', 'M1C', 'M1E', 'M1G', 'M1H', 'M1J', 'M1K', 'M1L', 'M1M', 'M1N', 'M1P', 'M1R', 'M1S', 'M1T', 'M1V', 'M1W', 'M1X', 'M2H', 'M2J', 'M2K', 'M2L', 'M2M', 'M2N', 'M2P', 'M2R', 'M3A', 'M3B', 'M3C', 'M3H', 'M3J', 'M3K', 'M3L', 'M3M', 'M3N', 'M4A', 'M4B', 'M4C', 'M4E', 'M4G', 'M4H', 'M4J', 'M4K', 'M4L', 'M4M', 'M4N', 'M4P', 'M4R', 'M4S', 'M4T', 'M4V', 'M4W', 'M4X', 'M4Y', 'M5A', 'M5B', 'M5C', 'M5E', 'M5G', 'M5H', 'M5J', 'M5K', 'M5L', 'M5M', 'M5N', 'M5P', 'M5R', 'M5S', 'M5T', 'M5V', 'M5W', 'M5X', 'M6A', 'M6B', 'M6C', 'M6E', 'M6G', 'M6H', 'M6J', 'M6K', 'M6L', 'M6M', 'M6N', 'M6P', 'M6R', 'M6S', 'M7A', 'M7R', 'M7Y', 'M8V', 'M8W', 'M8X', 'M8Y', 'M8Z', 'M9A', 'M9B', 'M9C', 'M9L', 'M9M', 'M9N', 'M9P', 'M9R', 'M9V', 'M9W']\n"
                }
            ], 
            "source": "# Unpack DataFrame values from the Postal Code column and\n#  assign values to the newly named variable geo_lst1\ngeo_lst1 = list(geo_DF['Postal Code'])\n# Display geo_lst1 as confirmation of successful creation\nprint(geo_lst1)"
        }, 
        {
            "execution_count": 11, 
            "cell_type": "code", 
            "metadata": {}, 
            "outputs": [
                {
                    "output_type": "stream", 
                    "name": "stdout", 
                    "text": "[43.806686299999996, 43.7845351, 43.7635726, 43.7709921, 43.773136, 43.7447342, 43.7279292, 43.711111700000004, 43.716316, 43.692657000000004, 43.7574096, 43.750071500000004, 43.7942003, 43.7816375, 43.8152522, 43.799525200000005, 43.836124700000006, 43.8037622, 43.7785175, 43.7869473, 43.7574902, 43.789053, 43.7701199, 43.752758299999996, 43.7827364, 43.7532586, 43.745905799999996, 43.72589970000001, 43.7543283, 43.7679803, 43.737473200000004, 43.7390146, 43.7284964, 43.7616313, 43.725882299999995, 43.7063972, 43.695343900000005, 43.67635739999999, 43.7090604, 43.7053689, 43.685347, 43.6795571, 43.6689985, 43.6595255, 43.7280205, 43.7127511, 43.7153834, 43.7043244, 43.6895743, 43.68641229999999, 43.6795626, 43.667967, 43.6658599, 43.6542599, 43.6571618, 43.6514939, 43.644770799999996, 43.6579524, 43.65057120000001, 43.6408157, 43.6471768, 43.6481985, 43.7332825, 43.7116948, 43.6969476, 43.6727097, 43.6626956, 43.6532057, 43.6289467, 43.6464352, 43.6484292, 43.718517999999996, 43.709577, 43.6937813, 43.6890256, 43.669542, 43.66900510000001, 43.647926700000006, 43.6368472, 43.713756200000006, 43.6911158, 43.67318529999999, 43.6616083, 43.6489597, 43.6515706, 43.6623015, 43.6369656, 43.6627439, 43.6056466, 43.60241370000001, 43.653653600000005, 43.6362579, 43.6288408, 43.6678556, 43.6509432, 43.6435152, 43.7563033, 43.7247659, 43.706876, 43.696319, 43.6889054, 43.739416399999996, 43.706748299999994]\n"
                }
            ], 
            "source": "# Unpack DataFrame values from the Latitude column and\n#  assign values to the newly named variable geo_lst2\ngeo_lst2 = list(geo_DF['Latitude'])\n# Display geo_lst1 as confirmation of successful creation\nprint(geo_lst2)"
        }, 
        {
            "execution_count": 12, 
            "cell_type": "code", 
            "metadata": {}, 
            "outputs": [
                {
                    "output_type": "stream", 
                    "name": "stdout", 
                    "text": "[-79.19435340000001, -79.16049709999999, -79.1887115, -79.21691740000001, -79.23947609999999, -79.23947609999999, -79.26202940000002, -79.2845772, -79.23947609999999, -79.2648481, -79.27330400000001, -79.2958491, -79.26202940000002, -79.3043021, -79.2845772, -79.3183887, -79.20563609999999, -79.3634517, -79.3465557, -79.385975, -79.37471409999999, -79.40849279999999, -79.40849279999999, -79.4000493, -79.4422593, -79.3296565, -79.352188, -79.340923, -79.4422593, -79.48726190000001, -79.46476329999999, -79.5069436, -79.49569740000001, -79.52099940000001, -79.31557159999998, -79.309937, -79.3183887, -79.2930312, -79.3634517, -79.34937190000001, -79.3381065, -79.352188, -79.31557159999998, -79.340923, -79.3887901, -79.3901975, -79.40567840000001, -79.3887901, -79.38315990000001, -79.4000493, -79.37752940000001, -79.3676753, -79.38315990000001, -79.3606359, -79.37893709999999, -79.3754179, -79.3733064, -79.3873826, -79.3845675, -79.38175229999999, -79.38157640000001, -79.37981690000001, -79.4197497, -79.41693559999999, -79.41130720000001, -79.40567840000001, -79.4000493, -79.4000493, -79.3944199, -79.37484599999999, -79.3822802, -79.46476329999999, -79.44507259999999, -79.42819140000002, -79.453512, -79.4225637, -79.4422593, -79.4197497, -79.42819140000002, -79.4900738, -79.47601329999999, -79.48726190000001, -79.46476329999999, -79.456325, -79.4844499, -79.3894938, -79.61581899999999, -79.321558, -79.50132070000001, -79.54348409999999, -79.5069436, -79.49850909999999, -79.52099940000001, -79.53224240000002, -79.55472440000001, -79.57720079999999, -79.56596329999999, -79.53224240000002, -79.51818840000001, -79.53224240000002, -79.55472440000001, -79.5884369, -79.5940544]\n"
                }
            ], 
            "source": "# Unpack DataFrame values from the Longitude column and\n#  assign values to the newly named variable geo_lst3\ngeo_lst3 = list(geo_DF['Longitude'])\n# Display geo_lst1 as confirmation of successful creation\nprint(geo_lst3)"
        }, 
        {
            "execution_count": 13, 
            "cell_type": "code", 
            "metadata": {}, 
            "outputs": [], 
            "source": "# Assign a value of 0 to the newly named variable count\ncount = 0\n# Assign an empty list to the newly named variable geo_lst\ngeo_lst = [ ]\n# Assign an empty list to the newly named variable temp_lst\ntemp_lst = []\n\n# While loop uses the count variable as a generator that\n# is used in the boolean condition statement that iterates\n# through geo_lst1, geo_lst2, and geo_lst3.\nwhile (int(count) != int(len(geo_lst1))):\n   \n    # All list items are removed from the temp_lst list  from\n    # from the previous stage of the loop.\n    temp_lst = []\n    \n    # The value from geo_lst1[count] is appended to the temp_lst\n    # list as an indivual list item.\n    temp_lst.append(geo_lst1[count])\n    # The value from geo_lst2[count] is appended to the temp_lst\n    # list as an indivual list item.\n    temp_lst.append(geo_lst2[count])\n    # The value from geo_lst3[count] is appended to the temp_lst\n    # list as an indivual list item.\n    temp_lst.append(geo_lst3[count])\n    \n    # The temp_lst list is appended to the geo_lst list as an\n    # individual list, which will behave a like a row in the final list.\n    geo_lst.append(temp_lst)\n    \n    # A value of 1 is added the count variable which is used in the\n    # boolean condition statement to determine if the while loop\n    # shall continue its iteration process.\n    count += 1\n    \n# An empty list is assigned to the newly named variable geo_city_lst\ngeo_city_lst = []\n# An empty list is assigned to the newly named variable temp_gc_lst\ntemp_gc_lst = []\n\n# A for loop that iterates through each row of the city_lst list and\n# appends final list rows to the geo_city_lst based on a conditional\n# statement contained within a nested for loop.\nfor row1 in city_lst:\n    \n    # A nested for that iterates through each row of the geo_lst List\n    # and performs a conditional test to determine which items from\n    # the city_lst and geo_lst lists are consolidated into the final list\n    # to be converted into a DataFrame.\n    for row2 in geo_lst:\n        \n        # An if conditional statement used to check if the individual \n        # items from list position 0 in the row2 and row1 lists are equal\n        # to each other.  If the output of the conditional statement is True,\n        # the lines nested within the if statement are executed until it reaches\n        # the last line.\n        if str(row2[0]) == str(row1[0]):\n            \n            # Appends the value from row1[0] to the temp_gc_lst list.\n            temp_gc_lst.append(row1[0])\n            # Appends the value from row1[1] to the temp_gc_lst list.\n            temp_gc_lst.append(row1[1])\n            # Appends the value from row1[2] to the temp_gc_lst list.\n            temp_gc_lst.append(row1[2])\n            # Appends the value from row2[1] to the temp_gc_lst list.\n            temp_gc_lst.append(row2[1])\n            # Appends the value from row2[2] to the temp_gc_lst list.\n            temp_gc_lst.append(row2[2])\n            \n            # Appends the temp_gc_lst list to the geo_city_lst list.\n            geo_city_lst.append(temp_gc_lst)\n            \n            # Removes the current items contained within the temp_gc_lst\n            # and replaces it with an empty list in preparation for the next\n            # of the for loop.\n            temp_gc_lst = []\n        \n        # An elif condition used to pass to the next stage of the for loop\n        # if the output of the conditional statement is False.\n        elif str(row2[0]) != str(row1[0]):\n            pass"
        }, 
        {
            "execution_count": 14, 
            "cell_type": "code", 
            "metadata": {}, 
            "outputs": [
                {
                    "execution_count": 14, 
                    "metadata": {}, 
                    "data": {
                        "text/html": "<div>\n<style scoped>\n    .dataframe tbody tr th:only-of-type {\n        vertical-align: middle;\n    }\n\n    .dataframe tbody tr th {\n        vertical-align: top;\n    }\n\n    .dataframe thead th {\n        text-align: right;\n    }\n</style>\n<table border=\"1\" class=\"dataframe\">\n  <thead>\n    <tr style=\"text-align: right;\">\n      <th></th>\n      <th>PostalCode</th>\n      <th>Borough</th>\n      <th>Neighborhood</th>\n      <th>Latitude</th>\n      <th>Longitude</th>\n    </tr>\n  </thead>\n  <tbody>\n  </tbody>\n</table>\n</div>", 
                        "text/plain": "Empty DataFrame\nColumns: [PostalCode, Borough, Neighborhood, Latitude, Longitude]\nIndex: []"
                    }, 
                    "output_type": "execute_result"
                }
            ], 
            "source": "# Assign column names to newly named Pandas dataframe toronto_Geo_DF.\ntoronto_Geo_DF = pd.DataFrame(columns=['PostalCode', 'Borough', 'Neighborhood', 'Latitude', 'Longitude'])\n# Display new dataframe as confirmation of successful creation.\ntoronto_Geo_DF"
        }, 
        {
            "execution_count": 15, 
            "cell_type": "code", 
            "metadata": {}, 
            "outputs": [
                {
                    "execution_count": 15, 
                    "metadata": {}, 
                    "data": {
                        "text/html": "<div>\n<style scoped>\n    .dataframe tbody tr th:only-of-type {\n        vertical-align: middle;\n    }\n\n    .dataframe tbody tr th {\n        vertical-align: top;\n    }\n\n    .dataframe thead th {\n        text-align: right;\n    }\n</style>\n<table border=\"1\" class=\"dataframe\">\n  <thead>\n    <tr style=\"text-align: right;\">\n      <th></th>\n      <th>PostalCode</th>\n      <th>Borough</th>\n      <th>Neighborhood</th>\n      <th>Latitude</th>\n      <th>Longitude</th>\n    </tr>\n  </thead>\n  <tbody>\n    <tr>\n      <th>0</th>\n      <td>M5G</td>\n      <td>Downtown Toronto</td>\n      <td>Central Bay Street</td>\n      <td>43.657952</td>\n      <td>-79.387383</td>\n    </tr>\n    <tr>\n      <th>1</th>\n      <td>M2H</td>\n      <td>North York</td>\n      <td>Hillcrest Village</td>\n      <td>43.803762</td>\n      <td>-79.363452</td>\n    </tr>\n    <tr>\n      <th>2</th>\n      <td>M4B</td>\n      <td>East York</td>\n      <td>Woodbine Gardens</td>\n      <td>43.706397</td>\n      <td>-79.309937</td>\n    </tr>\n    <tr>\n      <th>3</th>\n      <td>M1J</td>\n      <td>Scarborough</td>\n      <td>Scarborough Village</td>\n      <td>43.744734</td>\n      <td>-79.239476</td>\n    </tr>\n    <tr>\n      <th>4</th>\n      <td>M4G</td>\n      <td>East York</td>\n      <td>Leaside</td>\n      <td>43.709060</td>\n      <td>-79.363452</td>\n    </tr>\n    <tr>\n      <th>5</th>\n      <td>M4M</td>\n      <td>East Toronto</td>\n      <td>Studio District</td>\n      <td>43.659526</td>\n      <td>-79.340923</td>\n    </tr>\n    <tr>\n      <th>6</th>\n      <td>M1R</td>\n      <td>Scarborough</td>\n      <td>Maryvale</td>\n      <td>43.750072</td>\n      <td>-79.295849</td>\n    </tr>\n    <tr>\n      <th>7</th>\n      <td>M9V</td>\n      <td>Etobicoke</td>\n      <td>Albion Gardens</td>\n      <td>43.739416</td>\n      <td>-79.588437</td>\n    </tr>\n    <tr>\n      <th>8</th>\n      <td>M9L</td>\n      <td>North York</td>\n      <td>Humber Summit</td>\n      <td>43.756303</td>\n      <td>-79.565963</td>\n    </tr>\n    <tr>\n      <th>9</th>\n      <td>M5V</td>\n      <td>Downtown Toronto</td>\n      <td>CN Tower</td>\n      <td>43.628947</td>\n      <td>-79.394420</td>\n    </tr>\n    <tr>\n      <th>10</th>\n      <td>M1B</td>\n      <td>Scarborough</td>\n      <td>Rouge</td>\n      <td>43.806686</td>\n      <td>-79.194353</td>\n    </tr>\n    <tr>\n      <th>11</th>\n      <td>M5A</td>\n      <td>Downtown Toronto</td>\n      <td>Harbourfront</td>\n      <td>43.654260</td>\n      <td>-79.360636</td>\n    </tr>\n  </tbody>\n</table>\n</div>", 
                        "text/plain": "   PostalCode           Borough         Neighborhood   Latitude  Longitude\n0         M5G  Downtown Toronto   Central Bay Street  43.657952 -79.387383\n1         M2H        North York    Hillcrest Village  43.803762 -79.363452\n2         M4B         East York     Woodbine Gardens  43.706397 -79.309937\n3         M1J       Scarborough  Scarborough Village  43.744734 -79.239476\n4         M4G         East York              Leaside  43.709060 -79.363452\n5         M4M      East Toronto      Studio District  43.659526 -79.340923\n6         M1R       Scarborough             Maryvale  43.750072 -79.295849\n7         M9V         Etobicoke       Albion Gardens  43.739416 -79.588437\n8         M9L        North York        Humber Summit  43.756303 -79.565963\n9         M5V  Downtown Toronto             CN Tower  43.628947 -79.394420\n10        M1B       Scarborough                Rouge  43.806686 -79.194353\n11        M5A  Downtown Toronto         Harbourfront  43.654260 -79.360636"
                    }, 
                    "output_type": "execute_result"
                }
            ], 
            "source": "# For Loop iterates through each row of  geo_city_lst and appends the row to\n# the toronto_Geo_DF pandas dataframe.\nfor row in geo_city_lst:\n   toronto_Geo_DF = toronto_Geo_DF.append(pd.Series(row, index=['PostalCode', \n                                                                                                                                              'Borough', \n                                                                                                                                              'Neighborhood', \n                                                                                                                                              'Latitude', \n                                                                                                                                             'Longitude']), \n                                                                                                  ignore_index=True)\n\n# Display updated dataframe as confirmation of successful update\ntoronto_Geo_DF"
        }
    ], 
    "metadata": {
        "kernelspec": {
            "display_name": "Python 3.5", 
            "name": "python3", 
            "language": "python"
        }, 
        "language_info": {
            "mimetype": "text/x-python", 
            "nbconvert_exporter": "python", 
            "version": "3.5.5", 
            "name": "python", 
            "file_extension": ".py", 
            "pygments_lexer": "ipython3", 
            "codemirror_mode": {
                "version": 3, 
                "name": "ipython"
            }
        }
    }, 
    "nbformat": 4
}